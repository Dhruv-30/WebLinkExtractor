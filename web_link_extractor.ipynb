{
  "nbformat": 4,
  "nbformat_minor": 0,
  "metadata": {
    "colab": {
      "provenance": []
    },
    "kernelspec": {
      "name": "python3",
      "display_name": "Python 3"
    },
    "language_info": {
      "name": "python"
    }
  },
  "cells": [
    {
      "cell_type": "code",
      "source": [
        "pip install requests beautifulsoup4\n"
      ],
      "metadata": {
        "colab": {
          "base_uri": "https://localhost:8080/"
        },
        "id": "FhPzoZxDbXnM",
        "outputId": "66f9290b-bbe2-440b-8407-2f88e301b95d"
      },
      "execution_count": 6,
      "outputs": [
        {
          "output_type": "stream",
          "name": "stdout",
          "text": [
            "Requirement already satisfied: requests in /usr/local/lib/python3.10/dist-packages (2.31.0)\n",
            "Requirement already satisfied: beautifulsoup4 in /usr/local/lib/python3.10/dist-packages (4.11.2)\n",
            "Requirement already satisfied: charset-normalizer<4,>=2 in /usr/local/lib/python3.10/dist-packages (from requests) (3.2.0)\n",
            "Requirement already satisfied: idna<4,>=2.5 in /usr/local/lib/python3.10/dist-packages (from requests) (3.4)\n",
            "Requirement already satisfied: urllib3<3,>=1.21.1 in /usr/local/lib/python3.10/dist-packages (from requests) (2.0.4)\n",
            "Requirement already satisfied: certifi>=2017.4.17 in /usr/local/lib/python3.10/dist-packages (from requests) (2023.7.22)\n",
            "Requirement already satisfied: soupsieve>1.2 in /usr/local/lib/python3.10/dist-packages (from beautifulsoup4) (2.5)\n"
          ]
        }
      ]
    },
    {
      "cell_type": "markdown",
      "source": [
        "Libraries"
      ],
      "metadata": {
        "id": "7WUKGRWnfrU3"
      }
    },
    {
      "cell_type": "code",
      "source": [
        "# Import necessary libraries\n",
        "from queue import Queue\n",
        "from threading import Thread\n",
        "from bs4 import BeautifulSoup\n",
        "import unittest\n",
        "import time\n",
        "import requests"
      ],
      "metadata": {
        "id": "b0tT4we2axhw"
      },
      "execution_count": 19,
      "outputs": []
    },
    {
      "cell_type": "code",
      "source": [
        "# to fetch real-worl websites\n",
        "def fetch_html(url):\n",
        "    try:\n",
        "        response = requests.get(url)\n",
        "        response.raise_for_status()\n",
        "        return response.text\n",
        "    except requests.RequestException as e:\n",
        "        print(f\"Failed to fetch {url}: {e}\")\n",
        "        return None\n"
      ],
      "metadata": {
        "id": "QtdBsHBImOk5"
      },
      "execution_count": 20,
      "outputs": []
    },
    {
      "cell_type": "markdown",
      "source": [
        "Define producer function as required with multithreading in mind"
      ],
      "metadata": {
        "id": "QZpnLSnwftyg"
      }
    },
    {
      "cell_type": "code",
      "source": [
        "def marker_producer(url_list, html_queue, max_queue_size=10):\n",
        "    def fetch_and_enqueue(url):\n",
        "        try:\n",
        "            html_content = fetch_html(url)\n",
        "            while html_queue.qsize() >= max_queue_size: #implemented queue trimming\n",
        "                try:\n",
        "                    html_queue.get_nowait()\n",
        "                except Queue.Empty:\n",
        "                    continue\n",
        "            html_queue.put((url, html_content))\n",
        "        except Exception as e:\n",
        "            print(f\"Error in producer for URL {url}: {e}\")\n",
        "\n",
        "    threads = []\n",
        "    for url in url_list:\n",
        "        thread = Thread(target=fetch_and_enqueue, args=(url,))\n",
        "        thread.start()\n",
        "        threads.append(thread)\n",
        "\n",
        "    for thread in threads:\n",
        "        thread.join()\n",
        "\n",
        "    html_queue.put(None)  # Put a None marker to signal that the producer is done\n"
      ],
      "metadata": {
        "id": "roLyLxbTbp5r"
      },
      "execution_count": 21,
      "outputs": []
    },
    {
      "cell_type": "markdown",
      "source": [
        "Define consumer function"
      ],
      "metadata": {
        "id": "Uvrf5Irefyry"
      }
    },
    {
      "cell_type": "code",
      "source": [
        "def marker_consumer(html_queue, output_dict):\n",
        "    while True:\n",
        "        item = html_queue.get()\n",
        "        if item is None:\n",
        "            break\n",
        "        url, html_content = item\n",
        "        try:\n",
        "            soup = BeautifulSoup(html_content, 'html.parser')\n",
        "            links = [a['href'] for a in soup.find_all('a', href=True)]\n",
        "            output_dict[url] = links\n",
        "        except Exception as e:\n",
        "            print(f\"Error in consumer for URL {url}: {e}\")\n"
      ],
      "metadata": {
        "id": "91g8eDOqbrfO"
      },
      "execution_count": 22,
      "outputs": []
    },
    {
      "cell_type": "markdown",
      "source": [
        "Main execution"
      ],
      "metadata": {
        "id": "UUFOWV8gELtT"
      }
    },
    {
      "cell_type": "code",
      "source": [
        "# Initialize queue and o/p dictionary\n",
        "html_queue = Queue()\n",
        "output_dict = {}\n",
        "\n",
        "#  list of URLs\n",
        "url_list = [\"https://www.linkedin.com\", \"https://www.twitter.com\",\"https://www.ebay.co.uk\"] #more sites can be added, change queue size if more than 10 sites\n",
        "\n",
        "# Start Producer thread\n",
        "producer_thread = Thread(target=marker_producer, args=(url_list, html_queue))\n",
        "producer_thread.start()\n",
        "\n",
        "# Start Consumer thread\n",
        "consumer_thread = Thread(target=marker_consumer, args=(html_queue, output_dict))\n",
        "consumer_thread.start()\n",
        "\n",
        "# Wait for producer and consumer to finish\n",
        "producer_thread.join()\n",
        "consumer_thread.join()\n",
        "\n",
        "# Display the output dictionary\n",
        "print(output_dict)"
      ],
      "metadata": {
        "colab": {
          "base_uri": "https://localhost:8080/"
        },
        "id": "ZZpB_W801jM7",
        "outputId": "b7fa9980-2229-4705-ffb5-a36e2a588b04"
      },
      "execution_count": 36,
      "outputs": [
        {
          "output_type": "stream",
          "name": "stdout",
          "text": [
            "{'https://www.linkedin.com': ['#main-content', '/?trk=guest_homepage-basic_nav-header-logo', 'https://www.linkedin.com/search/results/content?trk=guest_homepage-basic_guest_nav_menu_posts', 'https://www.linkedin.com/pulse/topics/home/?trk=guest_homepage-basic_guest_nav_menu_articles', 'https://www.linkedin.com/pub/dir/+/+?trk=guest_homepage-basic_guest_nav_menu_people', 'https://www.linkedin.com/learning/search?trk=guest_homepage-basic_guest_nav_menu_learning', 'https://www.linkedin.com/jobs/search?trk=guest_homepage-basic_guest_nav_menu_jobs', 'https://www.linkedin.com/signup?trk=guest_homepage-basic_nav-header-join', 'https://www.linkedin.com/login?fromSignIn=true&trk=guest_homepage-basic_nav-header-signin', 'https://www.linkedin.com/uas/request-password-reset?trk=homepage-basic_forgot_password', 'https://www.linkedin.com/signup', 'https://www.linkedin.com/pulse/topics/marketing-s2461/', 'https://www.linkedin.com/pulse/topics/public-administration-s3697/', 'https://www.linkedin.com/pulse/topics/healthcare-s282/', 'https://www.linkedin.com/pulse/topics/engineering-s166/', 'https://www.linkedin.com/pulse/topics/talent-management-s993/', 'https://www.linkedin.com/pulse/topics/it-services-s57547/', 'https://www.linkedin.com/pulse/topics/business-administration-s50111/', 'https://www.linkedin.com/pulse/topics/telecommunications-s314/', 'https://www.linkedin.com/pulse/topics/search-engine-optimization-(seo)-s512/', 'https://www.linkedin.com/pulse/topics/home/', 'https://www.linkedin.com/jobs/engineering-jobs-las-vegas-nv?trk=homepage-basic_suggested-search', 'https://www.linkedin.com/jobs/business-development-jobs-las-vegas-nv?trk=homepage-basic_suggested-search', 'https://www.linkedin.com/jobs/finance-jobs-las-vegas-nv?trk=homepage-basic_suggested-search', 'https://www.linkedin.com/jobs/administrative-assistant-jobs-las-vegas-nv?trk=homepage-basic_suggested-search', 'https://www.linkedin.com/jobs/retail-associate-jobs-las-vegas-nv?trk=homepage-basic_suggested-search', 'https://www.linkedin.com/jobs/customer-service-jobs-las-vegas-nv?trk=homepage-basic_suggested-search', 'https://www.linkedin.com/jobs/operations-jobs-las-vegas-nv?trk=homepage-basic_suggested-search', 'https://www.linkedin.com/jobs/information-technology-jobs-las-vegas-nv?trk=homepage-basic_suggested-search', 'https://www.linkedin.com/jobs/marketing-jobs-las-vegas-nv?trk=homepage-basic_suggested-search', 'https://www.linkedin.com/jobs/human-resources-jobs-las-vegas-nv?trk=homepage-basic_suggested-search', 'https://www.linkedin.com/jobs/healthcare-services-jobs-las-vegas-nv?trk=homepage-basic_suggested-search', 'https://www.linkedin.com/jobs/sales-jobs-las-vegas-nv?trk=homepage-basic_suggested-search', 'https://www.linkedin.com/jobs/program-and-project-management-jobs-las-vegas-nv?trk=homepage-basic_suggested-search', 'https://www.linkedin.com/jobs/accounting-jobs-las-vegas-nv?trk=homepage-basic_suggested-search', 'https://www.linkedin.com/jobs/arts-and-design-jobs-las-vegas-nv?trk=homepage-basic_suggested-search', 'https://www.linkedin.com/jobs/community-and-social-services-jobs-las-vegas-nv?trk=homepage-basic_suggested-search', 'https://www.linkedin.com/jobs/consulting-jobs-las-vegas-nv?trk=homepage-basic_suggested-search', 'https://www.linkedin.com/jobs/education-jobs-las-vegas-nv?trk=homepage-basic_suggested-search', 'https://www.linkedin.com/jobs/entrepreneurship-jobs-las-vegas-nv?trk=homepage-basic_suggested-search', 'https://www.linkedin.com/jobs/legal-jobs-las-vegas-nv?trk=homepage-basic_suggested-search', 'https://www.linkedin.com/jobs/media-and-communications-jobs-las-vegas-nv?trk=homepage-basic_suggested-search', 'https://www.linkedin.com/jobs/military-and-protective-services-jobs-las-vegas-nv?trk=homepage-basic_suggested-search', 'https://www.linkedin.com/jobs/product-management-jobs-las-vegas-nv?trk=homepage-basic_suggested-search', 'https://www.linkedin.com/jobs/purchasing-jobs-las-vegas-nv?trk=homepage-basic_suggested-search', 'https://www.linkedin.com/jobs/quality-assurance-jobs-las-vegas-nv?trk=homepage-basic_suggested-search', 'https://www.linkedin.com/jobs/real-estate-jobs-las-vegas-nv?trk=homepage-basic_suggested-search', 'https://www.linkedin.com/jobs/research-jobs-las-vegas-nv?trk=homepage-basic_suggested-search', 'https://www.linkedin.com/jobs/support-jobs-las-vegas-nv?trk=homepage-basic_suggested-search', 'https://www.linkedin.com/jobs/administrative-jobs-las-vegas-nv?trk=homepage-basic_suggested-search', 'https://www.linkedin.com/talent/post-a-job?trk=homepage-basic_talent-finder-cta', 'https://www.linkedin.com/pub/dir/+/+?trk=homepage-basic', 'https://www.linkedin.com/learning/topics/business-analysis-and-strategy?trk=homepage-basic_learning-cta', 'https://www.linkedin.com/learning/topics/business-software-and-tools?trk=homepage-basic_learning-cta', 'https://www.linkedin.com/learning/topics/career-development-5?trk=homepage-basic_learning-cta', 'https://www.linkedin.com/learning/topics/customer-service-3?trk=homepage-basic_learning-cta', 'https://www.linkedin.com/learning/topics/diversity-equity-and-inclusion-dei?trk=homepage-basic_learning-cta', 'https://www.linkedin.com/learning/topics/finance-and-accounting?trk=homepage-basic_learning-cta', 'https://www.linkedin.com/learning/topics/human-resources-3?trk=homepage-basic_learning-cta', 'https://www.linkedin.com/learning/topics/leadership-and-management?trk=homepage-basic_learning-cta', 'https://www.linkedin.com/learning/topics/marketing-2?trk=homepage-basic_learning-cta', 'https://www.linkedin.com/learning/topics/professional-development?trk=homepage-basic_learning-cta', 'https://www.linkedin.com/learning/topics/project-management?trk=homepage-basic_learning-cta', 'https://www.linkedin.com/learning/topics/sales-3?trk=homepage-basic_learning-cta', 'https://www.linkedin.com/learning/topics/small-business-and-entrepreneurship?trk=homepage-basic_learning-cta', 'https://www.linkedin.com/learning/topics/training-and-education?trk=homepage-basic_learning-cta', 'https://www.linkedin.com/learning/topics/aec?trk=homepage-basic_learning-cta', 'https://www.linkedin.com/learning/topics/animation-and-illustration?trk=homepage-basic_learning-cta', 'https://www.linkedin.com/learning/topics/audio-and-music?trk=homepage-basic_learning-cta', 'https://www.linkedin.com/learning/topics/graphic-design?trk=homepage-basic_learning-cta', 'https://www.linkedin.com/learning/topics/motion-graphics-and-vfx?trk=homepage-basic_learning-cta', 'https://www.linkedin.com/learning/topics/photography-2?trk=homepage-basic_learning-cta', 'https://www.linkedin.com/learning/topics/product-and-manufacturing?trk=homepage-basic_learning-cta', 'https://www.linkedin.com/learning/topics/user-experience?trk=homepage-basic_learning-cta', 'https://www.linkedin.com/learning/topics/video-2?trk=homepage-basic_learning-cta', 'https://www.linkedin.com/learning/topics/visualization-and-real-time?trk=homepage-basic_learning-cta', 'https://www.linkedin.com/learning/topics/web-design?trk=homepage-basic_learning-cta', 'https://www.linkedin.com/learning/topics/artificial-intelligence?trk=homepage-basic_learning-cta', 'https://www.linkedin.com/learning/topics/cloud-computing-5?trk=homepage-basic_learning-cta', 'https://www.linkedin.com/learning/topics/data-science?trk=homepage-basic_learning-cta', 'https://www.linkedin.com/learning/topics/database-management?trk=homepage-basic_learning-cta', 'https://www.linkedin.com/learning/topics/devops?trk=homepage-basic_learning-cta', 'https://www.linkedin.com/learning/topics/it-help-desk-5?trk=homepage-basic_learning-cta', 'https://www.linkedin.com/learning/topics/mobile-development?trk=homepage-basic_learning-cta', 'https://www.linkedin.com/learning/topics/network-and-system-administration?trk=homepage-basic_learning-cta', 'https://www.linkedin.com/learning/topics/security-3?trk=homepage-basic_learning-cta', 'https://www.linkedin.com/learning/topics/software-development?trk=homepage-basic_learning-cta', 'https://www.linkedin.com/learning/topics/web-development?trk=homepage-basic_learning-cta', 'https://www.linkedin.com/pub/dir/+/+?trk=homepage-basic_brand-discovery_intent-module-firstBtn', 'https://www.linkedin.com/jobs/jobs-in-las-vegas-nv?trk=homepage-basic_brand-discovery_intent-module-secondBtn', 'https://www.linkedin.com/learning/search?trk=homepage-basic_brand-discovery_intent-module-thirdBtn', 'https://www.linkedin.com/signup?trk=homepage-basic_join-cta', 'https://www.linkedin.com/signup?trk=guest_homepage-basic_directory', 'https://www.linkedin.com/help/linkedin?lang=en&trk=homepage-basic_directory_helpCenterUrl', 'https://about.linkedin.com/?trk=homepage-basic_directory_aboutUrl', 'https://press.linkedin.com/?trk=homepage-basic_directory_pressMicrositeUrl', 'https://blog.linkedin.com/?trk=homepage-basic_directory_blogMicrositeUrl', 'https://www.linkedin.com/company/linkedin/jobs?trk=homepage-basic_directory_careersUrl', 'https://developer.linkedin.com/?trk=homepage-basic_directory_developerMicrositeUrl', 'https://www.linkedin.com/learning/?trk=homepage-basic_directory_learningHomeUrl', 'https://www.linkedin.com/jobs?trk=homepage-basic_directory_jobsHomeUrl', 'https://www.linkedin.com/salary/?trk=homepage-basic_directory_salaryHomeUrl', 'https://mobile.linkedin.com/?trk=homepage-basic_directory_mobileMicrositeUrl', 'https://www.linkedin.com/services?trk=homepage-basic_directory_servicesHomeUrl', 'https://www.linkedin.com/products?trk=homepage-basic_directory_productsHomeUrl', 'https://business.linkedin.com/talent-solutions?src=li-footer&utm_source=linkedin&utm_medium=footer&trk=homepage-basic_directory_talentSolutionsMicrositeUrl', 'https://business.linkedin.com/marketing-solutions?src=li-footer&utm_source=linkedin&utm_medium=footer&trk=homepage-basic_directory_marketingSolutionsMicrositeUrl', 'https://business.linkedin.com/sales-solutions?src=li-footer&utm_source=linkedin&utm_medium=footer&trk=homepage-basic_directory_salesSolutionsMicrositeUrl', 'https://learning.linkedin.com/?src=li-footer&trk=homepage-basic_directory_learningMicrositeUrl', 'https://www.linkedin.com/directory/people?trk=homepage-basic_directory_peopleDirectoryUrl', 'https://www.linkedin.com/directory/jobs?trk=homepage-basic_directory_jobSearchDirectoryUrl', 'https://www.linkedin.com/directory/companies?trk=homepage-basic_directory_companyDirectoryUrl', 'https://www.linkedin.com/directory/featured?trk=homepage-basic_directory_featuredDirectoryUrl', 'https://www.linkedin.com/directory/learning?trk=homepage-basic_directory_learningDirectoryUrl', 'https://www.linkedin.com/directory/posts?trk=homepage-basic_directory_postsDirectoryUrl', 'https://www.linkedin.com/directory/articles?trk=homepage-basic_directory_articlesDirectoryUrl', 'https://www.linkedin.com/directory/schools?trk=homepage-basic_directory_schoolsDirectoryUrl', 'https://www.linkedin.com/directory/news?trk=homepage-basic_directory_newsDirectoryUrl', 'https://www.linkedin.com/directory/newsletters?trk=homepage-basic_directory_newslettersDirectoryUrl', 'https://www.linkedin.com/directory/services?trk=homepage-basic_directory_servicesDirectoryUrl', 'https://www.linkedin.com/directory/products?trk=homepage-basic_directory_productsDirectoryUrl', 'https://www.linkedin.com/directory/advice?trk=homepage-basic_directory_adviceDirectoryUrl', 'https://www.linkedin.com/directory/people-search?trk=homepage-basic_directory_peopleSearchDirectoryUrl', 'https://about.linkedin.com?trk=homepage-basic_footer-about', 'https://www.linkedin.com/accessibility?trk=homepage-basic_footer-accessibility', 'https://www.linkedin.com/legal/user-agreement?trk=homepage-basic_footer-user-agreement', 'https://www.linkedin.com/legal/privacy-policy?trk=homepage-basic_footer-privacy-policy', 'https://www.linkedin.com/legal/california-privacy-disclosure?trk=homepage-basic_footer-california-privacy-rights-act', 'https://www.linkedin.com/legal/cookie-policy?trk=homepage-basic_footer-cookie-policy', 'https://www.linkedin.com/legal/copyright-policy?trk=homepage-basic_footer-copyright-policy', 'https://brand.linkedin.com/policies?trk=homepage-basic_footer-brand-policy', 'https://www.linkedin.com/psettings/guest-controls?trk=homepage-basic_footer-guest-controls', 'https://www.linkedin.com/legal/professional-community-policies?trk=homepage-basic_footer-community-guide'], 'https://www.ebay.co.uk': ['#mainContent', 'https://www.ebay.co.uk', 'https://www.ebay.co.uk/sch/ebayadvsearch', 'https://signin.ebay.co.uk/ws/eBayISAPI.dll?SignIn&_trksid=m570.l3348', 'https://reward.ebay.co.uk/rwdwebui/nectar/myebay/main', 'https://www.ebay.co.uk/deals', 'https://www.ebay.co.uk/vlp2/brand-outlet', 'https://ocsnext.ebay.co.uk/ocs/home', 'https://www.ebay.co.uk/e/_electronics/25-off-appliances-0709-2', 'https://www.ebay.co.uk/sl/sell', 'https://www.ebay.co.uk/mye/myebay/watchlist', '#gh-wl-click', 'https://signin.ebay.co.uk/ws/eBayISAPI.dll?SignIn&ru=ru', 'https://www.ebay.co.uk/mys/home?source=GBH', '#gh-eb-My', 'https://www.ebay.co.uk/mye/myebay/summary', 'https://www.ebay.co.uk/mye/myebay/rvi', 'https://www.ebay.co.uk/mye/myebay/v2/bidsoffers', 'https://www.ebay.co.uk/mye/myebay/watchlist', 'https://www.ebay.co.uk/mye/myebay/purchase', 'https://www.ebay.co.uk/mys/home?CurrentPage=MyeBayAllSelling&ssPageName=STRK:ME:LNLK:MESX&source=GBH', 'https://www.ebay.co.uk/myb/SavedSearches', 'https://www.ebay.co.uk/myb/SavedSellers', 'https://www.ebay.co.uk/g/mygarage', 'https://mesg.ebay.co.uk/mesgweb/ViewMessages/0', 'https://reward.ebay.co.uk/rwdwebui/nectar/myebay/main', 'https://cart.payments.ebay.co.uk/sc/view', '#gh-minicart-hover', '/feed', 'https://www.ebay.co.uk/b/bn_7000259670', 'https://www.ebay.co.uk/b/bn_1839832', 'https://www.ebay.co.uk/b/bn_1632681', 'https://www.ebay.co.uk/b/bn_818527', 'https://www.ebay.co.uk/b/bn_1841055', 'https://www.ebay.co.uk/b/bn_1842060', 'https://www.ebay.co.uk/b/bn_1633685', 'https://www.ebay.co.uk/b/bn_1633911', 'https://www.ebay.co.uk/b/bn_1632812', 'https://www.ebay.co.uk/b/bn_7000259858', 'https://www.ebay.co.uk/b/bn_7000259933', 'https://www.ebay.co.uk/b/bn_7000259854', 'https://www.ebay.co.uk/b/Dining/bn_7001217378', 'https://www.ebay.co.uk/b/bn_7120889698', 'https://www.ebay.co.uk/b/bn_7118631158', 'https://www.ebay.co.uk/b/bn_1632677', 'https://www.ebay.co.uk/b/bn_1841704', 'https://www.ebay.co.uk/b/bn_1841446', 'https://www.ebay.co.uk/b/bn_1838574', 'https://www.ebay.co.uk/b/bn_2316369', 'https://www.ebay.co.uk/b/bn_821820', 'https://www.ebay.co.uk/b/bn_2316368', 'https://www.ebay.co.uk/b/bn_1842006', 'https://www.ebay.co.uk/b/bn_1839695', 'https://www.ebay.co.uk/b/bn_1842092', 'https://www.ebay.co.uk/b/bn_1841446', 'https://www.ebay.co.uk/b/bn_7204994', 'https://www.ebay.co.uk/b/bn_1841113', 'https://www.ebay.co.uk/b/bn_7204986', 'https://www.ebay.co.uk/b/bn_7204983', 'https://www.ebay.co.uk/b/bn_7204886', 'https://www.ebay.co.uk/b/bn_1838227', 'https://www.ebay.co.uk/b/bn_1841733', 'https://www.ebay.co.uk/b/bn_7000259660', 'https://www.ebay.co.uk/b/bn_1841467', 'https://www.ebay.co.uk/b/bn_1841703', 'https://www.ebay.co.uk/b/bn_1838792', 'https://www.ebay.co.uk/b/bn_1838178', 'https://www.ebay.co.uk/b/bn_1841995', 'https://www.ebay.co.uk/b/bn_1839695', 'https://www.ebay.co.uk/b/bn_1839566', 'https://www.ebay.co.uk/b/bn_7000259852', 'https://www.ebay.co.uk/b/bn_1631140', 'https://www.ebay.co.uk/b/bn_1839641', 'https://www.ebay.co.uk/b/bn_450775', 'https://www.ebay.co.uk/b/bn_1635224', 'https://www.ebay.co.uk/b/bn_7025962239', 'https://www.ebay.co.uk/b/bn_1838773', 'https://www.ebay.co.uk/b/bn_886758', 'https://www.ebay.co.uk/b/bn_7025955880', 'https://www.ebay.co.uk/b/bn_7117653182', 'https://www.ebay.co.uk/e/special-events/roe-mobile-smart-phones', 'https://www.ebay.co.uk/e/special-events/roe-laptops', 'https://www.ebay.co.uk/e/special-events/roe-desktops', 'https://www.ebay.co.uk/e/special-events/roe-tablets-ereaders', 'https://www.ebay.co.uk/e/special-events/roe-appliances', 'https://www.ebay.co.uk/e/special-events/roe-diy-tools-workshop-equipment', 'https://www.ebay.co.uk/e/special-events/roe-furniture', 'https://www.ebay.co.uk/e/special-events/roe-tvs', 'https://www.ebay.co.uk/e/special-events/roe-certified', 'https://www.ebay.co.uk/e/special-events/roe-excellent', 'https://www.ebay.co.uk/e/special-events/roe-very-good', 'https://www.ebay.co.uk/e/special-events/roe-good', 'https://pages.ebay.co.uk/refurbished-hub/', 'https://www.ebay.co.uk/b/bn_7000259675', 'https://www.ebay.co.uk/b/bn_7116419481', 'https://www.ebay.co.uk/b/bn_7116419473', 'https://www.ebay.co.uk/b/bn_1632761', 'https://www.ebay.co.uk/b/bn_7116420450', 'https://www.ebay.co.uk/b/bn_7000259676', 'https://www.ebay.co.uk/b/bn_1838540', 'https://www.ebay.co.uk/vlp/handbags', 'https://www.ebay.co.uk/vlp/brand-outlet', 'https://www.ebay.co.uk/b/bn_7116370202', 'https://www.ebay.co.uk/e/fashion/brand-outlet-new-in', 'https://www.ebay.co.uk/vlp/sneakers', 'https://www.ebay.co.uk/vlp/watches', 'https://pages.ebay.co.uk/A-ZBrandOutletDirectory/index.html', 'https://www.ebay.co.uk/b/bn_843041', 'https://www.ebay.co.uk/b/bn_1839164', 'https://pages.ebay.co.uk/authenticity-guarantee/', 'https://www.ebay.co.uk/vlp/sneakers', 'https://www.ebay.co.uk/vlp/watches', 'https://www.ebay.co.uk/vlp/handbags', 'https://pages.ebay.co.uk/authenticity-guarantee/', 'https://www.ebay.co.uk/e/special-events/ag-rolex', 'https://www.ebay.co.uk/e/special-events/ag-omega', 'https://www.ebay.co.uk/e/fashion/louis-vuitton-handbags-ag', 'https://www.ebay.co.uk/e/fashion/mulberry-handbags-ag', 'https://www.ebay.co.uk/b/bn_77217', 'https://www.ebay.co.uk/b/bn_77319', 'https://www.ebay.co.uk/b/bn_7001210476', 'https://www.ebay.co.uk/g/mygarage', 'https://www.ebay.co.uk/b/bn_1838652', 'https://www.ebay.co.uk/b/bn_1839671', 'https://www.ebay.co.uk/deals/automotive', 'https://www.ebay.co.uk/b/bn_7118694781', 'https://www.ebay.co.uk/b/bn_7121209158', 'https://www.ebay.co.uk/b/bn_1528081', 'https://www.ebay.co.uk/b/bn_1838394', 'https://www.ebay.co.uk/b/bn_2314597', 'https://www.ebay.co.uk/b/bn_875475', 'https://www.ebay.co.uk/b/bn_1624265', 'https://www.ebay.co.uk/b/bn_1635761', 'https://www.ebay.co.uk/b/bn_2315509', 'https://www.ebay.co.uk/b/bn_7000259665', 'https://www.ebay.co.uk/b/bn_1838549', 'https://www.ebay.co.uk/b/bn_1839171', 'https://www.ebay.co.uk/b/bn_1839238', 'https://www.ebay.co.uk/b/bn_2316999', 'https://www.ebay.co.uk/b/bn_1841088', 'https://www.ebay.co.uk/b/bn_1841704', 'https://www.ebay.co.uk/b/bn_1838743', 'https://www.ebay.co.uk/b/bn_55159883', 'https://www.ebay.co.uk/b/bn_1635521', 'https://www.ebay.co.uk/b/bn_1839319', 'https://www.ebay.co.uk/b/bn_1842023', 'https://www.ebay.co.uk/b/bn_1841747', 'https://www.ebay.co.uk/b/bn_1841718', 'https://www.ebay.co.uk/b/bn_1841094', 'https://www.ebay.co.uk/b/bn_1842056', 'https://www.ebay.co.uk/b/bn_1839244', 'https://www.ebay.co.uk/b/bn_7000259669', 'https://www.ebay.co.uk/b/bn_1838666', 'https://www.ebay.co.uk/b/bn_1841074', 'https://www.ebay.co.uk/b/bn_1669642', 'https://www.ebay.co.uk/b/bn_1838600', 'https://www.ebay.co.uk/b/bn_1839270', 'https://www.ebay.co.uk/b/bn_1841706', 'https://www.ebay.co.uk/b/bn_1841777', 'https://www.ebay.co.uk/b/bn_1841127', 'https://www.ebay.co.uk/b/bn_1841501', 'https://www.ebay.co.uk/b/bn_1842032', 'https://www.ebay.co.uk/b/bn_1842001', 'https://www.ebay.co.uk/b/bn_1841469', 'https://www.ebay.co.uk/b/bn_1841498', 'https://www.ebay.co.uk/b/bn_1842014', 'https://www.ebay.co.uk/b/bn_1841029', 'https://www.ebay.co.uk/b/bn_1841031', 'https://www.ebay.co.uk/b/bn_1840059', 'https://www.ebay.co.uk/b/bn_1838772', 'https://www.ebay.co.uk/b/bn_7204993', 'https://www.ebay.co.uk/b/bn_7114087302', 'https://www.ebay.co.uk/b/bn_776932', 'https://www.ebay.co.uk/b/bn_1839770', 'https://www.ebay.co.uk/b/bn_1838397', 'https://www.ebay.co.uk/b/bn_1841062', 'https://www.ebay.co.uk/b/bn_2317955', 'https://www.ebay.co.uk/b/bn_1838735', 'https://www.ebay.co.uk/b/bn_1841505', 'https://www.ebay.co.uk/b/bn_552182', 'https://www.ebay.co.uk/b/bn_1841451', 'https://www.ebay.co.uk/b/bn_1841793', 'https://www.ebay.co.uk/b/bn_1635788', 'https://www.ebay.co.uk/b/bn_1841513', 'https://www.ebay.co.uk/b/bn_1839164', 'https://www.ebay.co.uk/b/bn_7117571158', 'https://www.ebay.co.uk/b/bn_7000259670', 'https://www.ebay.co.uk/b/bn_1841446', 'https://www.ebay.co.uk/b/bn_7000259660', 'https://www.ebay.co.uk/b/bn_7117653182', 'https://www.ebay.co.uk/b/bn_7000259675', 'https://pages.ebay.co.uk/authenticity-guarantee/', 'https://www.ebay.co.uk/b/bn_7001210476', 'https://www.ebay.co.uk/b/bn_7000259665', 'https://www.ebay.co.uk/b/bn_7000259669', 'https://www.ebay.co.uk/b/bn_1840059', 'https://www.ebay.co.uk/b/bn_7117571158', 'https://www.ebay.co.uk/b/bn_7000259675?_trkparms=pageci%3A22ca4f06-4e53-11ee-bed8-d618eb9f90b1%7Cparentrq%3A752c375318a0ab963d6d6c2dffff972c%7Ciid%3A1%7Cvlpname%3Avlp_homepage', 'https://www.ebay.co.uk/b/bn_7120889698?_trkparms=pageci%3A22ca4f06-4e53-11ee-bed8-d618eb9f90b1%7Cparentrq%3A752c375318a0ab963d6d6c2dffff972c%7Ciid%3A2%7Cvlpname%3Avlp_homepage', 'https://www.ebay.co.uk/b/bn_7120889698?_trkparms=pageci%3A22ca4f06-4e53-11ee-bed8-d618eb9f90b1%7Cparentrq%3A752c375318a0ab963d6d6c2dffff972c%7Ciid%3A2%7Cvlpname%3Avlp_homepage', 'https://www.ebay.co.uk/e/home-garden/up-to-60-off-refurb-bedroom?_trkparms=pageci%3A22ca4f06-4e53-11ee-bed8-d618eb9f90b1%7Cparentrq%3A752c375318a0ab963d6d6c2dffff972c%7Ciid%3A2%7Cvlpname%3Avlp_homepage', 'https://www.ebay.co.uk/e/home-garden/up-to-60-off-refurb-living-room?_trkparms=pageci%3A22ca4f06-4e53-11ee-bed8-d618eb9f90b1%7Cparentrq%3A752c375318a0ab963d6d6c2dffff972c%7Ciid%3A2%7Cvlpname%3Avlp_homepage', 'https://www.ebay.co.uk/e/home-garden/vintage-farmhouse-home-decor-from-10?_trkparms=pageci%3A22ca4f06-4e53-11ee-bed8-d618eb9f90b1%7Cparentrq%3A752c375318a0ab963d6d6c2dffff972c%7Ciid%3A2%7Cvlpname%3Avlp_homepage', 'https://www.ebay.co.uk/e/fashion/up-to-60-off-pre-loved-imperfect-fashion?_trkparms=pageci%3A22ca4f06-4e53-11ee-bed8-d618eb9f90b1%7Cparentrq%3A752c375318a0ab963d6d6c2dffff972c%7Ciid%3A3%7Cvlpname%3Avlp_homepage', 'https://www.ebay.co.uk/b/bn_7115216712?_trkparms=pageci%3A22ca4f06-4e53-11ee-bed8-d618eb9f90b1%7Cparentrq%3A752c375318a0ab963d6d6c2dffff972c%7Ciid%3A4%7Cvlpname%3Avlp_homepage', 'https://www.ebay.co.uk/b/bn_7115216712?_trkparms=pageci%3A22ca4f06-4e53-11ee-bed8-d618eb9f90b1%7Cparentrq%3A752c375318a0ab963d6d6c2dffff972c%7Ciid%3A4%7Cvlpname%3Avlp_homepage', 'https://www.ebay.co.uk/e/_electronics/dyson-25-off-cooling?_trkparms=pageci%3A22ca4f06-4e53-11ee-bed8-d618eb9f90b1%7Cparentrq%3A752c375318a0ab963d6d6c2dffff972c%7Ciid%3A4%7Cvlpname%3Avlp_homepage', 'https://www.ebay.co.uk/e/fashion/back-to-school-from-4?_trkparms=pageci%3A22ca4f06-4e53-11ee-bed8-d618eb9f90b1%7Cparentrq%3A752c375318a0ab963d6d6c2dffff972c%7Ciid%3A4%7Cvlpname%3Avlp_homepage', 'https://www.ebay.co.uk/e/special-events/hot-weather-essentials?_trkparms=pageci%3A22ca4f06-4e53-11ee-bed8-d618eb9f90b1%7Cparentrq%3A752c375318a0ab963d6d6c2dffff972c%7Ciid%3A4%7Cvlpname%3Avlp_homepage', 'https://www.ebay.co.uk/e/special-events/sgall?_trkparms=parentrq%3A752c375318a0ab963d6d6c2dffff972c%7Cpageci%3A22ca4f06-4e53-11ee-bed8-d618eb9f90b1%7Ciid%3A1%7Cvlpname%3Avlp_homepage', 'https://www.ebay.co.uk/e/special-events/sgall?_trkparms=parentrq%3A752c375318a0ab963d6d6c2dffff972c%7Cpageci%3A22ca4f06-4e53-11ee-bed8-d618eb9f90b1%7Ciid%3A1%7Cvlpname%3Avlp_homepage', 'https://www.ebay.co.uk/itm/303081769191?_trkparms=%26rpp_cid%3D5d8cce9aa937f33a775e44ce%26rpp_icid%3D5d8cce9aa937f33a775e44cd&_trkparms=parentrq%3A752c375318a0ab963d6d6c2dffff972c%7Cpageci%3A22ca4f06-4e53-11ee-bed8-d618eb9f90b1%7Ciid%3A1%7Cvlpname%3Avlp_homepage', 'https://www.ebay.co.uk/itm/202597758280?_trkparms=%26rpp_cid%3D5d8cce9aa937f33a775e44ce%26rpp_icid%3D5d8cce9aa937f33a775e44cd&_trkparms=parentrq%3A752c375318a0ab963d6d6c2dffff972c%7Cpageci%3A22ca4f06-4e53-11ee-bed8-d618eb9f90b1%7Ciid%3A1%7Cvlpname%3Avlp_homepage', 'https://www.ebay.co.uk/itm/225484499320?_trkparms=%26rpp_cid%3D5d8cce9aa937f33a775e44ce%26rpp_icid%3D5d8cce9aa937f33a775e44cd&_trkparms=parentrq%3A752c375318a0ab963d6d6c2dffff972c%7Cpageci%3A22ca4f06-4e53-11ee-bed8-d618eb9f90b1%7Ciid%3A1%7Cvlpname%3Avlp_homepage', 'https://www.ebay.co.uk/itm/125888022032?_trkparms=%26rpp_cid%3D5d8cce9aa937f33a775e44ce%26rpp_icid%3D5d8cce9aa937f33a775e44cd&_trkparms=parentrq%3A752c375318a0ab963d6d6c2dffff972c%7Cpageci%3A22ca4f06-4e53-11ee-bed8-d618eb9f90b1%7Ciid%3A1%7Cvlpname%3Avlp_homepage', 'https://www.ebay.co.uk/itm/184465849536?_trkparms=%26rpp_cid%3D5d8cce9aa937f33a775e44ce%26rpp_icid%3D5d8cce9aa937f33a775e44cd&_trkparms=parentrq%3A752c375318a0ab963d6d6c2dffff972c%7Cpageci%3A22ca4f06-4e53-11ee-bed8-d618eb9f90b1%7Ciid%3A1%7Cvlpname%3Avlp_homepage', 'https://www.ebay.co.uk/itm/304421201427?_trkparms=%26rpp_cid%3D5d8cce9aa937f33a775e44ce%26rpp_icid%3D5d8cce9aa937f33a775e44cd&_trkparms=parentrq%3A752c375318a0ab963d6d6c2dffff972c%7Cpageci%3A22ca4f06-4e53-11ee-bed8-d618eb9f90b1%7Ciid%3A1%7Cvlpname%3Avlp_homepage', 'https://www.ebay.co.uk/itm/115360491813?_trkparms=%26rpp_cid%3D5d8cce9aa937f33a775e44ce%26rpp_icid%3D5d8cce9aa937f33a775e44cd&_trkparms=parentrq%3A752c375318a0ab963d6d6c2dffff972c%7Cpageci%3A22ca4f06-4e53-11ee-bed8-d618eb9f90b1%7Ciid%3A1%7Cvlpname%3Avlp_homepage', 'https://www.ebay.co.uk/itm/284913736921?_trkparms=%26rpp_cid%3D5d8cce9aa937f33a775e44ce%26rpp_icid%3D5d8cce9aa937f33a775e44cd&_trkparms=parentrq%3A752c375318a0ab963d6d6c2dffff972c%7Cpageci%3A22ca4f06-4e53-11ee-bed8-d618eb9f90b1%7Ciid%3A1%7Cvlpname%3Avlp_homepage', 'https://www.ebay.co.uk/b/Sales-Events/bn_7115216712?preview=true', 'https://www.ebay.co.uk/e/home-garden/up-to-65-off-better-than-new-diy', 'https://www.ebay.co.uk/e/fashion/up-to-60-off-pre-loved-imperfect-fashion', 'https://www.ebay.co.uk/b/Refurbished/bn_7117653182', 'https://www.ebay.co.uk/b/Code-Offer/bn_7116143159', 'https://www.ebay.co.uk/e/special-events/dive-into-watch-excellence', 'https://www.ebay.co.uk/b/Back-to-Uni/bn_7114608164', 'https://www.ebay.co.uk/deals?_trkparms=parentrq%3A752c375318a0ab963d6d6c2dffff972c%7Cpageci%3A22ca4f06-4e53-11ee-bed8-d618eb9f90b1%7Ciid%3A1%7Cvlpname%3Avlp_homepage', 'https://www.ebay.co.uk/deals?_trkparms=parentrq%3A752c375318a0ab963d6d6c2dffff972c%7Cpageci%3A22ca4f06-4e53-11ee-bed8-d618eb9f90b1%7Ciid%3A1%7Cvlpname%3Avlp_homepage', 'https://www.ebay.co.uk/itm/364357559095?_trkparms=amclksrc%3DITM%26aid%3D777008%26algo%3DPERSONAL.TOPIC%26ao%3D1%26asc%3D20221223111835%26meid%3D69dfdfb7b83d469ebe8ad86efff40a78%26pid%3D101664%26rk%3D1%26rkt%3D1%26b%3D1%26itm%3D364357559095%26pmt%3D0%26noa%3D1%26pg%3D4375194%26algv%3DFeaturedDealsV2&_trksid=p4375194.c101664.m150506&_trkparms=parentrq%3A752c375318a0ab963d6d6c2dffff972c%7Cpageci%3A22ca4f06-4e53-11ee-bed8-d618eb9f90b1%7Ciid%3A1%7Cvlpname%3Avlp_homepage', 'https://www.ebay.co.uk/itm/224697248469?_trkparms=amclksrc%3DITM%26aid%3D777008%26algo%3DPERSONAL.TOPIC%26ao%3D1%26asc%3D20221223111835%26meid%3D69dfdfb7b83d469ebe8ad86efff40a78%26pid%3D101664%26rk%3D1%26rkt%3D1%26b%3D1%26itm%3D224697248469%26pmt%3D0%26noa%3D1%26pg%3D4375194%26algv%3DFeaturedDealsV2&_trksid=p4375194.c101664.m150506&_trkparms=parentrq%3A752c375318a0ab963d6d6c2dffff972c%7Cpageci%3A22ca4f06-4e53-11ee-bed8-d618eb9f90b1%7Ciid%3A1%7Cvlpname%3Avlp_homepage', 'https://www.ebay.co.uk/itm/125733524440?_trkparms=amclksrc%3DITM%26aid%3D777008%26algo%3DPERSONAL.TOPIC%26ao%3D1%26asc%3D20221223111835%26meid%3D69dfdfb7b83d469ebe8ad86efff40a78%26pid%3D101664%26rk%3D1%26rkt%3D1%26b%3D1%26itm%3D125733524440%26pmt%3D0%26noa%3D1%26pg%3D4375194%26algv%3DFeaturedDealsV2&_trksid=p4375194.c101664.m150506&_trkparms=parentrq%3A752c375318a0ab963d6d6c2dffff972c%7Cpageci%3A22ca4f06-4e53-11ee-bed8-d618eb9f90b1%7Ciid%3A1%7Cvlpname%3Avlp_homepage', 'https://www.ebay.co.uk/itm/295094479060?_trkparms=amclksrc%3DITM%26aid%3D777008%26algo%3DPERSONAL.TOPIC%26ao%3D1%26asc%3D20221223111835%26meid%3D69dfdfb7b83d469ebe8ad86efff40a78%26pid%3D101664%26rk%3D1%26rkt%3D1%26b%3D1%26itm%3D295094479060%26pmt%3D0%26noa%3D1%26pg%3D4375194%26algv%3DFeaturedDealsV2&_trksid=p4375194.c101664.m150506&_trkparms=parentrq%3A752c375318a0ab963d6d6c2dffff972c%7Cpageci%3A22ca4f06-4e53-11ee-bed8-d618eb9f90b1%7Ciid%3A1%7Cvlpname%3Avlp_homepage', 'https://www.ebay.co.uk/itm/122617713686?_trkparms=amclksrc%3DITM%26aid%3D777008%26algo%3DPERSONAL.TOPIC%26ao%3D1%26asc%3D20221223111835%26meid%3D69dfdfb7b83d469ebe8ad86efff40a78%26pid%3D101664%26rk%3D1%26rkt%3D1%26b%3D1%26itm%3D122617713686%26pmt%3D0%26noa%3D1%26pg%3D4375194%26algv%3DFeaturedDealsV2&_trksid=p4375194.c101664.m150506&_trkparms=parentrq%3A752c375318a0ab963d6d6c2dffff972c%7Cpageci%3A22ca4f06-4e53-11ee-bed8-d618eb9f90b1%7Ciid%3A1%7Cvlpname%3Avlp_homepage', 'https://www.ebay.co.uk/itm/134241687105?_trkparms=amclksrc%3DITM%26aid%3D777008%26algo%3DPERSONAL.TOPIC%26ao%3D1%26asc%3D20221223111835%26meid%3D69dfdfb7b83d469ebe8ad86efff40a78%26pid%3D101664%26rk%3D1%26rkt%3D1%26b%3D1%26itm%3D134241687105%26pmt%3D0%26noa%3D1%26pg%3D4375194%26algv%3DFeaturedDealsV2&_trksid=p4375194.c101664.m150506&_trkparms=parentrq%3A752c375318a0ab963d6d6c2dffff972c%7Cpageci%3A22ca4f06-4e53-11ee-bed8-d618eb9f90b1%7Ciid%3A1%7Cvlpname%3Avlp_homepage', 'https://www.ebay.co.uk/itm/325518374315?_trkparms=amclksrc%3DITM%26aid%3D777008%26algo%3DPERSONAL.TOPIC%26ao%3D1%26asc%3D20221223111835%26meid%3D69dfdfb7b83d469ebe8ad86efff40a78%26pid%3D101664%26rk%3D1%26rkt%3D1%26b%3D1%26itm%3D325518374315%26pmt%3D0%26noa%3D1%26pg%3D4375194%26algv%3DFeaturedDealsV2&_trksid=p4375194.c101664.m150506&_trkparms=parentrq%3A752c375318a0ab963d6d6c2dffff972c%7Cpageci%3A22ca4f06-4e53-11ee-bed8-d618eb9f90b1%7Ciid%3A1%7Cvlpname%3Avlp_homepage', 'https://www.ebay.co.uk/itm/154168489683?_trkparms=amclksrc%3DITM%26aid%3D777008%26algo%3DPERSONAL.TOPIC%26ao%3D1%26asc%3D20221223111835%26meid%3D69dfdfb7b83d469ebe8ad86efff40a78%26pid%3D101664%26rk%3D1%26rkt%3D1%26b%3D1%26itm%3D154168489683%26pmt%3D0%26noa%3D1%26pg%3D4375194%26algv%3DFeaturedDealsV2&_trksid=p4375194.c101664.m150506&_trkparms=parentrq%3A752c375318a0ab963d6d6c2dffff972c%7Cpageci%3A22ca4f06-4e53-11ee-bed8-d618eb9f90b1%7Ciid%3A1%7Cvlpname%3Avlp_homepage', 'https://www.ebay.co.uk/itm/234968228444?_trkparms=amclksrc%3DITM%26aid%3D777008%26algo%3DPERSONAL.TOPIC%26ao%3D1%26asc%3D20221223111835%26meid%3D69dfdfb7b83d469ebe8ad86efff40a78%26pid%3D101664%26rk%3D1%26rkt%3D1%26b%3D1%26itm%3D234968228444%26pmt%3D0%26noa%3D1%26pg%3D4375194%26algv%3DFeaturedDealsV2&_trksid=p4375194.c101664.m150506&_trkparms=parentrq%3A752c375318a0ab963d6d6c2dffff972c%7Cpageci%3A22ca4f06-4e53-11ee-bed8-d618eb9f90b1%7Ciid%3A1%7Cvlpname%3Avlp_homepage', 'https://www.ebay.co.uk/itm/155229856804?_trkparms=amclksrc%3DITM%26aid%3D777008%26algo%3DPERSONAL.TOPIC%26ao%3D1%26asc%3D20221223111835%26meid%3D69dfdfb7b83d469ebe8ad86efff40a78%26pid%3D101664%26rk%3D1%26rkt%3D1%26b%3D1%26itm%3D155229856804%26pmt%3D0%26noa%3D1%26pg%3D4375194%26algv%3DFeaturedDealsV2&_trksid=p4375194.c101664.m150506&_trkparms=parentrq%3A752c375318a0ab963d6d6c2dffff972c%7Cpageci%3A22ca4f06-4e53-11ee-bed8-d618eb9f90b1%7Ciid%3A1%7Cvlpname%3Avlp_homepage', 'https://www.ebay.co.uk/itm/334739547585?_trkparms=amclksrc%3DITM%26aid%3D777008%26algo%3DPERSONAL.TOPIC%26ao%3D1%26asc%3D20221223111835%26meid%3D69dfdfb7b83d469ebe8ad86efff40a78%26pid%3D101664%26rk%3D1%26rkt%3D1%26b%3D1%26itm%3D334739547585%26pmt%3D0%26noa%3D1%26pg%3D4375194%26algv%3DFeaturedDealsV2&_trksid=p4375194.c101664.m150506&_trkparms=parentrq%3A752c375318a0ab963d6d6c2dffff972c%7Cpageci%3A22ca4f06-4e53-11ee-bed8-d618eb9f90b1%7Ciid%3A1%7Cvlpname%3Avlp_homepage', 'https://www.ebay.co.uk/itm/385793833765?_trkparms=amclksrc%3DITM%26aid%3D777008%26algo%3DPERSONAL.TOPIC%26ao%3D1%26asc%3D20221223111835%26meid%3D69dfdfb7b83d469ebe8ad86efff40a78%26pid%3D101664%26rk%3D1%26rkt%3D1%26b%3D1%26itm%3D385793833765%26pmt%3D0%26noa%3D1%26pg%3D4375194%26algv%3DFeaturedDealsV2&_trksid=p4375194.c101664.m150506&_trkparms=parentrq%3A752c375318a0ab963d6d6c2dffff972c%7Cpageci%3A22ca4f06-4e53-11ee-bed8-d618eb9f90b1%7Ciid%3A1%7Cvlpname%3Avlp_homepage', 'https://www.ebay.co.uk/itm/334700617049?_trkparms=amclksrc%3DITM%26aid%3D777008%26algo%3DPERSONAL.TOPIC%26ao%3D1%26asc%3D20221223111835%26meid%3D69dfdfb7b83d469ebe8ad86efff40a78%26pid%3D101664%26rk%3D1%26rkt%3D1%26b%3D1%26itm%3D334700617049%26pmt%3D0%26noa%3D1%26pg%3D4375194%26algv%3DFeaturedDealsV2&_trksid=p4375194.c101664.m150506&_trkparms=parentrq%3A752c375318a0ab963d6d6c2dffff972c%7Cpageci%3A22ca4f06-4e53-11ee-bed8-d618eb9f90b1%7Ciid%3A1%7Cvlpname%3Avlp_homepage', 'https://www.ebay.co.uk/itm/264525113916?_trkparms=amclksrc%3DITM%26aid%3D777008%26algo%3DPERSONAL.TOPIC%26ao%3D1%26asc%3D20221223111835%26meid%3D69dfdfb7b83d469ebe8ad86efff40a78%26pid%3D101664%26rk%3D1%26rkt%3D1%26b%3D1%26itm%3D264525113916%26pmt%3D0%26noa%3D1%26pg%3D4375194%26algv%3DFeaturedDealsV2&_trksid=p4375194.c101664.m150506&_trkparms=parentrq%3A752c375318a0ab963d6d6c2dffff972c%7Cpageci%3A22ca4f06-4e53-11ee-bed8-d618eb9f90b1%7Ciid%3A1%7Cvlpname%3Avlp_homepage', 'https://www.ebay.co.uk/itm/186027211034?_trkparms=amclksrc%3DITM%26aid%3D777008%26algo%3DPERSONAL.TOPIC%26ao%3D1%26asc%3D20221223111835%26meid%3D69dfdfb7b83d469ebe8ad86efff40a78%26pid%3D101664%26rk%3D1%26rkt%3D1%26b%3D1%26itm%3D186027211034%26pmt%3D0%26noa%3D1%26pg%3D4375194%26algv%3DFeaturedDealsV2&_trksid=p4375194.c101664.m150506&_trkparms=parentrq%3A752c375318a0ab963d6d6c2dffff972c%7Cpageci%3A22ca4f06-4e53-11ee-bed8-d618eb9f90b1%7Ciid%3A1%7Cvlpname%3Avlp_homepage', 'https://www.ebay.co.uk/b/Sales-Events/bn_7115216712?_trkparms=parentrq%3A752c375318a0ab963d6d6c2dffff972c%7Cpageci%3A22ca4f06-4e53-11ee-bed8-d618eb9f90b1%7Ciid%3A2%7Cmi%3A4776%7Cli%3A9803', 'https://www.ebay.co.uk/b/Sales-Events/bn_7115216712?_trkparms=parentrq%3A752c375318a0ab963d6d6c2dffff972c%7Cpageci%3A22ca4f06-4e53-11ee-bed8-d618eb9f90b1%7Ciid%3A2%7Cmi%3A4776%7Cli%3A8342', 'https://www.ebay.co.uk/e/motors/w36-up-to-15-off-tools-equipment', 'https://www.ebay.co.uk/e/fashion/fashion-under-20', 'https://www.ebay.co.uk/e/fashion/extra-20-off-imperfect-fashion-beauty', 'https://www.ebay.co.uk/e/home-garden/up-to-60-off-garden', 'https://www.ebay.co.uk/e/_electronics/celebrate-the-launch-of-starfield', 'https://www.ebay.co.uk/e/_electronics/20-off-tech', 'https://www.ebay.co.uk/e/_everyday-essentials/up-to-30-off-andrex-finish-more', 'https://www.ebay.co.uk/e/_electronics/25-off-appliances-0709-2?_trkparms=pageci%3A22ca4f06-4e53-11ee-bed8-d618eb9f90b1%7Cparentrq%3A752c375318a0ab963d6d6c2dffff972c%7Ciid%3A1', 'https://pages.ebay.co.uk/refurbappliances/?_trkparms=pageci%3A22ca4f06-4e53-11ee-bed8-d618eb9f90b1%7Cparentrq%3A752c375318a0ab963d6d6c2dffff972c%7Ciid%3A1%7Cvlpname%3Avlp_homepage', 'https://www.ebay.co.uk/e/_electronics/25-off-appliances-0709-2?_trkparms=pageci%3A22ca4f06-4e53-11ee-bed8-d618eb9f90b1%7Cparentrq%3A752c375318a0ab963d6d6c2dffff972c%7Ciid%3A1', 'https://www.ebay.co.uk/b/Sales-Events/bn_7115216712?_trkparms=pageci%3A22ca4f06-4e53-11ee-bed8-d618eb9f90b1%7Cparentrq%3A752c375318a0ab963d6d6c2dffff972c%7Ciid%3A5%7Cvlpname%3Avlp_homepage', 'https://www.ebay.co.uk/b/Sales-Events/bn_7115216712?_trkparms=parentrq%3A752c375318a0ab963d6d6c2dffff972c%7Cpageci%3A22ca4f06-4e53-11ee-bed8-d618eb9f90b1%7Cc%3A1%7Ciid%3A1%7Cmi%3A4818%7Cli%3A8991', 'https://www.ebay.co.uk/n/all-categories', 'https://www.ebay.co.uk/help/buying', 'https://www.ebay.co.uk/deals', 'https://www.ebay.co.uk/help/buying/getting-started-ebay/using-ebay-app?id=4032', 'https://www.ebay.co.uk/n/all-brands', 'https://www.ebay.co.uk/b/Sales-Events/bn_7115216712', 'https://www.charity.ebay.co.uk/', 'https://www.ebay.co.uk/b/Charity/bn_7115162245', 'https://www.ebay.co.uk/b/Stores-Hub/bn_7004250158', 'https://www.ebay.co.uk/b/Seasonal-Sales-Events/bn_7115376663', 'https://www.ebay.co.uk/sl/sell', 'https://sellercentre.ebay.co.uk/', 'https://www.ebay.co.uk/help/selling/posting-items/setting-postage-options/local-collection?id=4181', 'https://sellercentre.ebay.co.uk/selling', 'https://www.ebay.co.uk/help/selling/fees-credits-invoices/fees-business-sellers?id=4122', 'https://sellercentre.ebay.co.uk/protection/premium-protection', 'https://sellercentre.ebay.co.uk/postage/postage-made-easy', 'https://sellercentre.ebay.co.uk/protection', 'https://pages.ebay.co.uk/ebayforcharity/sell.html', 'https://community.ebay.co.uk/', 'https://community.ebay.co.uk/t5/Help-from-Community-Experts/ct-p/11900000007', 'https://community.ebay.co.uk/t5/Discussion-Boards/ct-p/13', 'https://community.ebay.co.uk/t5/Groups/ct-p/11900000000', 'https://community.ebay.co.uk/t5/Announcements/bg-p/Announcements', 'https://www.ebayinc.com/company/', 'https://www.ebayinc.com/company/contact-us/', 'https://www.ebay.co.uk/help/policies/member-behaviour-policies/legal-notices?id=4714', 'https://www.ebayinc.com/stories/press-room/uk/', 'https://www.ebayads.com', 'https://partnernetwork.ebay.com/', 'https://www.ebay.co.uk/help/policies/listing-policies/selling-policies/intellectual-property-vero-program?id=4349', 'https://www.ebayinc.com/impact/sustainable-commerce/', 'https://pages.ebay.co.uk/msa-statement/', 'https://www.ebay.co.uk/help/home', 'https://pages.ebay.co.uk/delivery-returns/index.html', 'https://www.ebay.co.uk/help/home', 'https://pages.ebay.co.uk/ebay-money-back-guarantee/', 'https://www.ebay.co.uk', 'https://ar.ebay.com', 'https://www.ebay.com.au', 'https://www.ebay.at', 'https://by.ebay.com', 'https://www.ebay.be', 'https://bo.ebay.com', 'https://br.ebay.com', 'https://www.ebay.ca', 'https://cl.ebay.com', 'https://www.ebay.cn', 'https://co.ebay.com', 'https://cr.ebay.com', 'https://do.ebay.com', 'https://ec.ebay.com', 'https://sv.ebay.com', 'https://www.ebay.fr', 'https://www.ebay.de', 'https://gt.ebay.com', 'https://hn.ebay.com', 'https://www.ebay.com.hk', 'https://www.ebay.in', 'https://www.ebay.ie', 'https://il.ebay.com', 'https://www.ebay.it', 'https://www.ebay.co.jp', 'https://kz.ebay.com', 'https://www.ebay.co.kr', 'https://www.ebay.com.my', 'https://mx.ebay.com', 'https://www.ebay.nl', 'https://www.ebay.co.nz/', 'https://ni.ebay.com', 'https://pa.ebay.com', 'https://py.ebay.com', 'https://pe.ebay.com', 'https://www.ebay.ph', 'https://www.ebay.pl', 'https://pt.ebay.com', 'https://pr.ebay.com', 'https://www.ebay.com.sg', 'https://www.ebay.es', 'https://www.ebay.ch', 'https://www.ebay.com.tw', 'https://www.ebay.com', 'https://uy.ebay.com', 'https://www.ebay.com', 'https://ve.ebay.com', 'https://www.ebayinc.com/our-company/', 'https://community.ebay.co.uk/t5/Announcements/bg-p/Announcements', 'https://community.ebay.co.uk', 'https://pages.ebay.co.uk/safetycentre/index.html', 'https://sellercentre.ebay.co.uk', 'https://pages.ebay.co.uk/vero/index.html', 'https://www.ebay.co.uk/help/policies/az-index/az-index-policies?id=4649', 'https://www.ebay.co.uk/help/home', 'https://pages.ebay.co.uk/sitemap.html', 'https://www.ebay.co.uk/help/policies/member-behaviour-policies/user-agreement?id=4259', 'https://www.ebay.co.uk/help/policies/member-behaviour-policies/user-privacy-notice-privacy-policy?id=4260', 'https://pages.ebay.co.uk/payment/2.0/terms.html', 'https://www.ebay.co.uk/help/policies/member-behaviour-policies/ebay-cookie-notice?id=4267', 'https://www.ebay.co.uk/adchoice'], 'https://www.twitter.com': ['https://help.twitter.com/using-twitter/twitter-supported-browsers', 'https://twitter.com/tos', 'https://twitter.com/privacy', 'https://support.twitter.com/articles/20170514', 'https://legal.twitter.com/imprint.html', 'https://business.twitter.com/en/help/troubleshooting/how-twitter-ads-work.html?ref=web-twc-ao-gbl-adsinfo&utm_source=twc&utm_medium=web&utm_campaign=ao&utm_content=adsinfo']}\n"
          ]
        }
      ]
    },
    {
      "cell_type": "code",
      "source": [
        "#test to check fetch function\n",
        "def test_fetch_html():\n",
        "    url1 = \"https://www.linkedin.com\"\n",
        "    assert isinstance(fetch_html(url1), str), f\"Failed to fetch HTML content from {url1}\"\n",
        "\n",
        "    url2 = \"https://unreachable-website.com\"\n",
        "    assert fetch_html(url2) is None, f\"Unexpected result when fetching from {url2}\"\n",
        "\n",
        "    print(\"test_fetch_html passed\")\n",
        "\n",
        "#test for marker_producer function\n",
        "def test_marker_producer():\n",
        "    url_list = [\"https://www.linkedin.com\"]\n",
        "    test_queue = Queue()\n",
        "    marker_producer(url_list, test_queue)\n",
        "    assert not test_queue.empty(), \"Queue should not be empty\"\n",
        "    print(\"test_marker_producer passed\")\n",
        "\n",
        "#test for marker_consumer function\n",
        "def test_marker_consumer():\n",
        "    url = \"https://www.linkedin.com\"\n",
        "    html_content = \"<html><body><a href='/link1'></a><a href='/link2'></a></body></html>\"\n",
        "    test_queue = Queue()\n",
        "    test_queue.put((url, html_content))\n",
        "    test_queue.put(None)\n",
        "\n",
        "    test_output_dict = {}\n",
        "    marker_consumer(test_queue, test_output_dict)\n",
        "\n",
        "    assert url in test_output_dict, f\"URL {url} not in output dictionary\"\n",
        "    print(\"test_marker_consumer passed\")\n"
      ],
      "metadata": {
        "id": "tzjZSMDI4ir0"
      },
      "execution_count": 37,
      "outputs": []
    },
    {
      "cell_type": "code",
      "source": [
        "# Run the unit tests\n",
        "test_fetch_html()\n",
        "test_marker_producer()\n",
        "test_marker_consumer()"
      ],
      "metadata": {
        "colab": {
          "base_uri": "https://localhost:8080/"
        },
        "id": "ubve5B-D9pMC",
        "outputId": "2c382f5b-d59e-452d-88f5-a11140a23450"
      },
      "execution_count": 38,
      "outputs": [
        {
          "output_type": "stream",
          "name": "stdout",
          "text": [
            "Failed to fetch https://unreachable-website.com: HTTPSConnectionPool(host='unreachable-website.com', port=443): Max retries exceeded with url: / (Caused by NameResolutionError(\"<urllib3.connection.HTTPSConnection object at 0x7969675464d0>: Failed to resolve 'unreachable-website.com' ([Errno -2] Name or service not known)\"))\n",
            "test_fetch_html passed\n",
            "test_marker_producer passed\n",
            "test_marker_consumer passed\n"
          ]
        }
      ]
    },
    {
      "cell_type": "code",
      "source": [],
      "metadata": {
        "id": "IEF8QhqDIpmC"
      },
      "execution_count": null,
      "outputs": []
    }
  ]
}