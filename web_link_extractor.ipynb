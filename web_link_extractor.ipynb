{
  "nbformat": 4,
  "nbformat_minor": 0,
  "metadata": {
    "colab": {
      "provenance": []
    },
    "kernelspec": {
      "name": "python3",
      "display_name": "Python 3"
    },
    "language_info": {
      "name": "python"
    }
  },
  "cells": [
    {
      "cell_type": "code",
      "source": [
        "pip install requests beautifulsoup4\n"
      ],
      "metadata": {
        "colab": {
          "base_uri": "https://localhost:8080/"
        },
        "id": "FhPzoZxDbXnM",
        "outputId": "66f9290b-bbe2-440b-8407-2f88e301b95d"
      },
      "execution_count": 6,
      "outputs": [
        {
          "output_type": "stream",
          "name": "stdout",
          "text": [
            "Requirement already satisfied: requests in /usr/local/lib/python3.10/dist-packages (2.31.0)\n",
            "Requirement already satisfied: beautifulsoup4 in /usr/local/lib/python3.10/dist-packages (4.11.2)\n",
            "Requirement already satisfied: charset-normalizer<4,>=2 in /usr/local/lib/python3.10/dist-packages (from requests) (3.2.0)\n",
            "Requirement already satisfied: idna<4,>=2.5 in /usr/local/lib/python3.10/dist-packages (from requests) (3.4)\n",
            "Requirement already satisfied: urllib3<3,>=1.21.1 in /usr/local/lib/python3.10/dist-packages (from requests) (2.0.4)\n",
            "Requirement already satisfied: certifi>=2017.4.17 in /usr/local/lib/python3.10/dist-packages (from requests) (2023.7.22)\n",
            "Requirement already satisfied: soupsieve>1.2 in /usr/local/lib/python3.10/dist-packages (from beautifulsoup4) (2.5)\n"
          ]
        }
      ]
    },
    {
      "cell_type": "markdown",
      "source": [
        "Libraries"
      ],
      "metadata": {
        "id": "7WUKGRWnfrU3"
      }
    },
    {
      "cell_type": "code",
      "source": [
        "# Import necessary libraries\n",
        "from queue import Queue\n",
        "from threading import Thread\n",
        "from bs4 import BeautifulSoup\n",
        "import unittest\n",
        "import time\n",
        "import requests"
      ],
      "metadata": {
        "id": "b0tT4we2axhw"
      },
      "execution_count": 19,
      "outputs": []
    },
    {
      "cell_type": "code",
      "source": [
        "# to fetch real-worl websites\n",
        "def fetch_html(url):\n",
        "    try:\n",
        "        response = requests.get(url)\n",
        "        response.raise_for_status()\n",
        "        return response.text\n",
        "    except requests.RequestException as e:\n",
        "        print(f\"Failed to fetch {url}: {e}\")\n",
        "        return None\n"
      ],
      "metadata": {
        "id": "QtdBsHBImOk5"
      },
      "execution_count": 20,
      "outputs": []
    },
    {
      "cell_type": "markdown",
      "source": [
        "Define producer function as required with multithreading in mind"
      ],
      "metadata": {
        "id": "QZpnLSnwftyg"
      }
    },
    {
      "cell_type": "code",
      "source": [
        "def marker_producer(url_list, html_queue, max_queue_size=10):\n",
        "    def fetch_and_enqueue(url):\n",
        "        try:\n",
        "            html_content = fetch_html(url)\n",
        "            while html_queue.qsize() >= max_queue_size: #implemented queue trimming\n",
        "                try:\n",
        "                    html_queue.get_nowait()\n",
        "                except Queue.Empty:\n",
        "                    continue\n",
        "            html_queue.put((url, html_content))\n",
        "        except Exception as e:\n",
        "            print(f\"Error in producer for URL {url}: {e}\")\n",
        "\n",
        "    threads = []\n",
        "    for url in url_list:\n",
        "        thread = Thread(target=fetch_and_enqueue, args=(url,))\n",
        "        thread.start()\n",
        "        threads.append(thread)\n",
        "\n",
        "    for thread in threads:\n",
        "        thread.join()\n",
        "\n",
        "    html_queue.put(None)  # Put a None marker to signal that the producer is done\n"
      ],
      "metadata": {
        "id": "roLyLxbTbp5r"
      },
      "execution_count": 21,
      "outputs": []
    },
    {
      "cell_type": "markdown",
      "source": [
        "Define consumer function"
      ],
      "metadata": {
        "id": "Uvrf5Irefyry"
      }
    },
    {
      "cell_type": "code",
      "source": [
        "def marker_consumer(html_queue, output_dict):\n",
        "    while True:\n",
        "        item = html_queue.get()\n",
        "        if item is None:\n",
        "            break\n",
        "        url, html_content = item\n",
        "        try:\n",
        "            soup = BeautifulSoup(html_content, 'html.parser')\n",
        "            links = [a['href'] for a in soup.find_all('a', href=True)]\n",
        "            output_dict[url] = links\n",
        "        except Exception as e:\n",
        "            print(f\"Error in consumer for URL {url}: {e}\")\n"
      ],
      "metadata": {
        "id": "91g8eDOqbrfO"
      },
      "execution_count": 22,
      "outputs": []
    },
    {
      "cell_type": "markdown",
      "source": [
        "Main execution"
      ],
      "metadata": {
        "id": "UUFOWV8gELtT"
      }
    },
    {
      "cell_type": "code",
      "source": [
        "# Initialize queue and o/p dictionary\n",
        "html_queue = Queue()\n",
        "output_dict = {}\n",
        "\n",
        "#  list of URLs\n",
        "url_list = [\"https://www.linkedin.com\", \"https://www.otta.com\",\"https://www.google.com\"] #more sites can be added, change queue size if more than 10 sites\n",
        "\n",
        "# Start Producer thread\n",
        "producer_thread = Thread(target=marker_producer, args=(url_list, html_queue))\n",
        "producer_thread.start()\n",
        "\n",
        "# Start Consumer thread\n",
        "consumer_thread = Thread(target=marker_consumer, args=(html_queue, output_dict))\n",
        "consumer_thread.start()\n",
        "\n",
        "# Wait for producer and consumer to finish\n",
        "producer_thread.join()\n",
        "consumer_thread.join()\n",
        "\n",
        "# Display the output dictionary\n",
        "print(output_dict)"
      ],
      "metadata": {
        "colab": {
          "base_uri": "https://localhost:8080/"
        },
        "id": "ZZpB_W801jM7",
        "outputId": "fecedb7f-678d-4297-897f-04d0e3894e2c"
      },
      "execution_count": 23,
      "outputs": [
        {
          "output_type": "stream",
          "name": "stdout",
          "text": [
            "{'https://www.google.com': ['https://www.google.com/imghp?hl=en&tab=wi', 'https://maps.google.com/maps?hl=en&tab=wl', 'https://play.google.com/?hl=en&tab=w8', 'https://www.youtube.com/?tab=w1', 'https://news.google.com/?tab=wn', 'https://mail.google.com/mail/?tab=wm', 'https://drive.google.com/?tab=wo', 'https://www.google.com/intl/en/about/products?tab=wh', 'http://www.google.com/history/optout?hl=en', '/preferences?hl=en', 'https://accounts.google.com/ServiceLogin?hl=en&passive=true&continue=https://www.google.com/&ec=GAZAAQ', '/advanced_search?hl=en&authuser=0', '/intl/en/ads/', '/services/', '/intl/en/about.html', '/intl/en/policies/privacy/', '/intl/en/policies/terms/'], 'https://www.linkedin.com': ['#main-content', '/?trk=guest_homepage-basic_nav-header-logo', 'https://www.linkedin.com/pulse/topics/home/?trk=guest_homepage-basic_guest_nav_menu_articles', 'https://www.linkedin.com/pub/dir/+/+?trk=guest_homepage-basic_guest_nav_menu_people', 'https://www.linkedin.com/learning/search?trk=guest_homepage-basic_guest_nav_menu_learning', 'https://www.linkedin.com/jobs/search?trk=guest_homepage-basic_guest_nav_menu_jobs', 'https://www.linkedin.com/signup?trk=guest_homepage-basic_nav-header-join', 'https://www.linkedin.com/login?fromSignIn=true&trk=guest_homepage-basic_nav-header-signin', 'https://www.linkedin.com/uas/request-password-reset?trk=homepage-basic_forgot_password', 'https://www.linkedin.com/signup', 'https://www.linkedin.com/pulse/topics/marketing-s2461/', 'https://www.linkedin.com/pulse/topics/public-administration-s3697/', 'https://www.linkedin.com/pulse/topics/healthcare-s282/', 'https://www.linkedin.com/pulse/topics/engineering-s166/', 'https://www.linkedin.com/pulse/topics/talent-management-s993/', 'https://www.linkedin.com/pulse/topics/it-services-s57547/', 'https://www.linkedin.com/pulse/topics/business-administration-s50111/', 'https://www.linkedin.com/pulse/topics/telecommunications-s314/', 'https://www.linkedin.com/pulse/topics/search-engine-optimization-(seo)-s512/', 'https://www.linkedin.com/pulse/topics/home/', 'https://www.linkedin.com/jobs/engineering-jobs-las-vegas-nv?trk=homepage-basic_suggested-search', 'https://www.linkedin.com/jobs/business-development-jobs-las-vegas-nv?trk=homepage-basic_suggested-search', 'https://www.linkedin.com/jobs/finance-jobs-las-vegas-nv?trk=homepage-basic_suggested-search', 'https://www.linkedin.com/jobs/administrative-assistant-jobs-las-vegas-nv?trk=homepage-basic_suggested-search', 'https://www.linkedin.com/jobs/retail-associate-jobs-las-vegas-nv?trk=homepage-basic_suggested-search', 'https://www.linkedin.com/jobs/customer-service-jobs-las-vegas-nv?trk=homepage-basic_suggested-search', 'https://www.linkedin.com/jobs/operations-jobs-las-vegas-nv?trk=homepage-basic_suggested-search', 'https://www.linkedin.com/jobs/information-technology-jobs-las-vegas-nv?trk=homepage-basic_suggested-search', 'https://www.linkedin.com/jobs/marketing-jobs-las-vegas-nv?trk=homepage-basic_suggested-search', 'https://www.linkedin.com/jobs/human-resources-jobs-las-vegas-nv?trk=homepage-basic_suggested-search', 'https://www.linkedin.com/jobs/healthcare-services-jobs-las-vegas-nv?trk=homepage-basic_suggested-search', 'https://www.linkedin.com/jobs/sales-jobs-las-vegas-nv?trk=homepage-basic_suggested-search', 'https://www.linkedin.com/jobs/program-and-project-management-jobs-las-vegas-nv?trk=homepage-basic_suggested-search', 'https://www.linkedin.com/jobs/accounting-jobs-las-vegas-nv?trk=homepage-basic_suggested-search', 'https://www.linkedin.com/jobs/arts-and-design-jobs-las-vegas-nv?trk=homepage-basic_suggested-search', 'https://www.linkedin.com/jobs/community-and-social-services-jobs-las-vegas-nv?trk=homepage-basic_suggested-search', 'https://www.linkedin.com/jobs/consulting-jobs-las-vegas-nv?trk=homepage-basic_suggested-search', 'https://www.linkedin.com/jobs/education-jobs-las-vegas-nv?trk=homepage-basic_suggested-search', 'https://www.linkedin.com/jobs/entrepreneurship-jobs-las-vegas-nv?trk=homepage-basic_suggested-search', 'https://www.linkedin.com/jobs/legal-jobs-las-vegas-nv?trk=homepage-basic_suggested-search', 'https://www.linkedin.com/jobs/media-and-communications-jobs-las-vegas-nv?trk=homepage-basic_suggested-search', 'https://www.linkedin.com/jobs/military-and-protective-services-jobs-las-vegas-nv?trk=homepage-basic_suggested-search', 'https://www.linkedin.com/jobs/product-management-jobs-las-vegas-nv?trk=homepage-basic_suggested-search', 'https://www.linkedin.com/jobs/purchasing-jobs-las-vegas-nv?trk=homepage-basic_suggested-search', 'https://www.linkedin.com/jobs/quality-assurance-jobs-las-vegas-nv?trk=homepage-basic_suggested-search', 'https://www.linkedin.com/jobs/real-estate-jobs-las-vegas-nv?trk=homepage-basic_suggested-search', 'https://www.linkedin.com/jobs/research-jobs-las-vegas-nv?trk=homepage-basic_suggested-search', 'https://www.linkedin.com/jobs/support-jobs-las-vegas-nv?trk=homepage-basic_suggested-search', 'https://www.linkedin.com/jobs/administrative-jobs-las-vegas-nv?trk=homepage-basic_suggested-search', 'https://www.linkedin.com/talent/post-a-job?trk=homepage-basic_talent-finder-cta', 'https://www.linkedin.com/pub/dir/+/+?trk=homepage-basic', 'https://www.linkedin.com/learning/topics/business-analysis-and-strategy?trk=homepage-basic_learning-cta', 'https://www.linkedin.com/learning/topics/business-software-and-tools?trk=homepage-basic_learning-cta', 'https://www.linkedin.com/learning/topics/career-development-5?trk=homepage-basic_learning-cta', 'https://www.linkedin.com/learning/topics/customer-service-3?trk=homepage-basic_learning-cta', 'https://www.linkedin.com/learning/topics/diversity-equity-and-inclusion-dei?trk=homepage-basic_learning-cta', 'https://www.linkedin.com/learning/topics/finance-and-accounting?trk=homepage-basic_learning-cta', 'https://www.linkedin.com/learning/topics/human-resources-3?trk=homepage-basic_learning-cta', 'https://www.linkedin.com/learning/topics/leadership-and-management?trk=homepage-basic_learning-cta', 'https://www.linkedin.com/learning/topics/marketing-2?trk=homepage-basic_learning-cta', 'https://www.linkedin.com/learning/topics/professional-development?trk=homepage-basic_learning-cta', 'https://www.linkedin.com/learning/topics/project-management?trk=homepage-basic_learning-cta', 'https://www.linkedin.com/learning/topics/sales-3?trk=homepage-basic_learning-cta', 'https://www.linkedin.com/learning/topics/small-business-and-entrepreneurship?trk=homepage-basic_learning-cta', 'https://www.linkedin.com/learning/topics/training-and-education?trk=homepage-basic_learning-cta', 'https://www.linkedin.com/learning/topics/aec?trk=homepage-basic_learning-cta', 'https://www.linkedin.com/learning/topics/animation-and-illustration?trk=homepage-basic_learning-cta', 'https://www.linkedin.com/learning/topics/audio-and-music?trk=homepage-basic_learning-cta', 'https://www.linkedin.com/learning/topics/graphic-design?trk=homepage-basic_learning-cta', 'https://www.linkedin.com/learning/topics/motion-graphics-and-vfx?trk=homepage-basic_learning-cta', 'https://www.linkedin.com/learning/topics/photography-2?trk=homepage-basic_learning-cta', 'https://www.linkedin.com/learning/topics/product-and-manufacturing?trk=homepage-basic_learning-cta', 'https://www.linkedin.com/learning/topics/user-experience?trk=homepage-basic_learning-cta', 'https://www.linkedin.com/learning/topics/video-2?trk=homepage-basic_learning-cta', 'https://www.linkedin.com/learning/topics/visualization-and-real-time?trk=homepage-basic_learning-cta', 'https://www.linkedin.com/learning/topics/web-design?trk=homepage-basic_learning-cta', 'https://www.linkedin.com/learning/topics/artificial-intelligence?trk=homepage-basic_learning-cta', 'https://www.linkedin.com/learning/topics/cloud-computing-5?trk=homepage-basic_learning-cta', 'https://www.linkedin.com/learning/topics/data-science?trk=homepage-basic_learning-cta', 'https://www.linkedin.com/learning/topics/database-management?trk=homepage-basic_learning-cta', 'https://www.linkedin.com/learning/topics/devops?trk=homepage-basic_learning-cta', 'https://www.linkedin.com/learning/topics/it-help-desk-5?trk=homepage-basic_learning-cta', 'https://www.linkedin.com/learning/topics/mobile-development?trk=homepage-basic_learning-cta', 'https://www.linkedin.com/learning/topics/network-and-system-administration?trk=homepage-basic_learning-cta', 'https://www.linkedin.com/learning/topics/security-3?trk=homepage-basic_learning-cta', 'https://www.linkedin.com/learning/topics/software-development?trk=homepage-basic_learning-cta', 'https://www.linkedin.com/learning/topics/web-development?trk=homepage-basic_learning-cta', 'https://www.linkedin.com/pub/dir/+/+?trk=homepage-basic_brand-discovery_intent-module-firstBtn', 'https://www.linkedin.com/jobs/jobs-in-las-vegas-nv?trk=homepage-basic_brand-discovery_intent-module-secondBtn', 'https://www.linkedin.com/learning/search?trk=homepage-basic_brand-discovery_intent-module-thirdBtn', 'https://www.linkedin.com/signup?trk=homepage-basic_join-cta', 'https://www.linkedin.com/signup?trk=guest_homepage-basic_directory', 'https://www.linkedin.com/help/linkedin?lang=en&trk=homepage-basic_directory_helpCenterUrl', 'https://about.linkedin.com/?trk=homepage-basic_directory_aboutUrl', 'https://press.linkedin.com/?trk=homepage-basic_directory_pressMicrositeUrl', 'https://blog.linkedin.com/?trk=homepage-basic_directory_blogMicrositeUrl', 'https://www.linkedin.com/company/linkedin/jobs?trk=homepage-basic_directory_careersUrl', 'https://developer.linkedin.com/?trk=homepage-basic_directory_developerMicrositeUrl', 'https://www.linkedin.com/learning/?trk=homepage-basic_directory_learningHomeUrl', 'https://www.linkedin.com/jobs?trk=homepage-basic_directory_jobsHomeUrl', 'https://www.linkedin.com/salary/?trk=homepage-basic_directory_salaryHomeUrl', 'https://mobile.linkedin.com/?trk=homepage-basic_directory_mobileMicrositeUrl', 'https://www.linkedin.com/services?trk=homepage-basic_directory_servicesHomeUrl', 'https://www.linkedin.com/products?trk=homepage-basic_directory_productsHomeUrl', 'https://business.linkedin.com/talent-solutions?src=li-footer&utm_source=linkedin&utm_medium=footer&trk=homepage-basic_directory_talentSolutionsMicrositeUrl', 'https://business.linkedin.com/marketing-solutions?src=li-footer&utm_source=linkedin&utm_medium=footer&trk=homepage-basic_directory_marketingSolutionsMicrositeUrl', 'https://business.linkedin.com/sales-solutions?src=li-footer&utm_source=linkedin&utm_medium=footer&trk=homepage-basic_directory_salesSolutionsMicrositeUrl', 'https://learning.linkedin.com/?src=li-footer&trk=homepage-basic_directory_learningMicrositeUrl', 'https://www.linkedin.com/directory/people?trk=homepage-basic_directory_peopleDirectoryUrl', 'https://www.linkedin.com/directory/jobs?trk=homepage-basic_directory_jobSearchDirectoryUrl', 'https://www.linkedin.com/directory/companies?trk=homepage-basic_directory_companyDirectoryUrl', 'https://www.linkedin.com/directory/featured?trk=homepage-basic_directory_featuredDirectoryUrl', 'https://www.linkedin.com/directory/learning?trk=homepage-basic_directory_learningDirectoryUrl', 'https://www.linkedin.com/directory/posts?trk=homepage-basic_directory_postsDirectoryUrl', 'https://www.linkedin.com/directory/articles?trk=homepage-basic_directory_articlesDirectoryUrl', 'https://www.linkedin.com/directory/schools?trk=homepage-basic_directory_schoolsDirectoryUrl', 'https://www.linkedin.com/directory/news?trk=homepage-basic_directory_newsDirectoryUrl', 'https://www.linkedin.com/directory/newsletters?trk=homepage-basic_directory_newslettersDirectoryUrl', 'https://www.linkedin.com/directory/services?trk=homepage-basic_directory_servicesDirectoryUrl', 'https://www.linkedin.com/directory/products?trk=homepage-basic_directory_productsDirectoryUrl', 'https://www.linkedin.com/directory/advice?trk=homepage-basic_directory_adviceDirectoryUrl', 'https://www.linkedin.com/directory/people-search?trk=homepage-basic_directory_peopleSearchDirectoryUrl', 'https://about.linkedin.com?trk=homepage-basic_footer-about', 'https://www.linkedin.com/accessibility?trk=homepage-basic_footer-accessibility', 'https://www.linkedin.com/legal/user-agreement?trk=homepage-basic_footer-user-agreement', 'https://www.linkedin.com/legal/privacy-policy?trk=homepage-basic_footer-privacy-policy', 'https://www.linkedin.com/legal/california-privacy-disclosure?trk=homepage-basic_footer-california-privacy-rights-act', 'https://www.linkedin.com/legal/cookie-policy?trk=homepage-basic_footer-cookie-policy', 'https://www.linkedin.com/legal/copyright-policy?trk=homepage-basic_footer-copyright-policy', 'https://brand.linkedin.com/policies?trk=homepage-basic_footer-brand-policy', 'https://www.linkedin.com/psettings/guest-controls?trk=homepage-basic_footer-guest-controls', 'https://www.linkedin.com/legal/professional-community-policies?trk=homepage-basic_footer-community-guide'], 'https://www.otta.com': ['/', '/employers', '/about-us', 'https://app.otta.com/login', 'https://app.otta.com/initial-preferences', 'https://app.otta.com/initial-preferences', 'https://app.otta.com/initial-preferences', 'https://app.otta.com/initial-preferences', 'https://app.otta.com/initial-preferences', 'https://app.otta.com/initial-preferences', 'https://app.otta.com/initial-preferences', 'https://app.otta.com/initial-preferences', 'https://app.otta.com/initial-preferences', '/careers', 'https://blog.otta.com', '/rocketlist', '/privacy-policy', '/terms-and-conditions', '/diversity-and-inclusion', 'https://www.linkedin.com/company/otta-uk', 'https://instagram.com/ottahq', 'https://twitter.com/ottahq', 'mailto:hello@otta.com', 'mailto:hello@otta.com', 'mailto:press@otta.com']}\n"
          ]
        }
      ]
    },
    {
      "cell_type": "code",
      "source": [
        "#test to check fetch function\n",
        "def test_fetch_html():\n",
        "    url1 = \"https://www.google.com\"\n",
        "    assert isinstance(fetch_html(url1), str), f\"Failed to fetch HTML content from {url1}\"\n",
        "\n",
        "    url2 = \"https://unreachable-website.com\"\n",
        "    assert fetch_html(url2) is None, f\"Unexpected result when fetching from {url2}\"\n",
        "\n",
        "    print(\"test_fetch_html passed\")\n",
        "\n",
        "#test for marker_producer function\n",
        "def test_marker_producer():\n",
        "    url_list = [\"https://www.google.com\"]\n",
        "    test_queue = Queue()\n",
        "    marker_producer(url_list, test_queue)\n",
        "    assert not test_queue.empty(), \"Queue should not be empty\"\n",
        "    print(\"test_marker_producer passed\")\n",
        "\n",
        "#test for marker_consumer function\n",
        "def test_marker_consumer():\n",
        "    url = \"https://www.google.com\"\n",
        "    html_content = \"<html><body><a href='/link1'></a><a href='/link2'></a></body></html>\"\n",
        "    test_queue = Queue()\n",
        "    test_queue.put((url, html_content))\n",
        "    test_queue.put(None)\n",
        "\n",
        "    test_output_dict = {}\n",
        "    marker_consumer(test_queue, test_output_dict)\n",
        "\n",
        "    assert url in test_output_dict, f\"URL {url} not in output dictionary\"\n",
        "    print(\"test_marker_consumer passed\")\n"
      ],
      "metadata": {
        "id": "tzjZSMDI4ir0"
      },
      "execution_count": 24,
      "outputs": []
    },
    {
      "cell_type": "code",
      "source": [
        "# Run the unit tests\n",
        "test_fetch_html()\n",
        "test_marker_producer()\n",
        "test_marker_consumer()"
      ],
      "metadata": {
        "colab": {
          "base_uri": "https://localhost:8080/"
        },
        "id": "ubve5B-D9pMC",
        "outputId": "e9860142-214c-4976-eef7-3b557af86e5a"
      },
      "execution_count": 25,
      "outputs": [
        {
          "output_type": "stream",
          "name": "stdout",
          "text": [
            "Failed to fetch https://unreachable-website.com: HTTPSConnectionPool(host='unreachable-website.com', port=443): Max retries exceeded with url: / (Caused by NameResolutionError(\"<urllib3.connection.HTTPSConnection object at 0x796966f830a0>: Failed to resolve 'unreachable-website.com' ([Errno -2] Name or service not known)\"))\n",
            "test_fetch_html passed\n",
            "test_marker_producer passed\n",
            "test_marker_consumer passed\n"
          ]
        }
      ]
    },
    {
      "cell_type": "code",
      "source": [],
      "metadata": {
        "id": "8s2CeBK4-6QR"
      },
      "execution_count": null,
      "outputs": []
    }
  ]
}